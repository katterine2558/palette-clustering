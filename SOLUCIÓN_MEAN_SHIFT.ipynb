{
  "nbformat": 4,
  "nbformat_minor": 0,
  "metadata": {
    "colab": {
      "provenance": [],
      "authorship_tag": "ABX9TyMGmbzNnRQuJC6dyHsHuaKv",
      "include_colab_link": true
    },
    "kernelspec": {
      "name": "python3",
      "display_name": "Python 3"
    },
    "language_info": {
      "name": "python"
    }
  },
  "cells": [
    {
      "cell_type": "markdown",
      "metadata": {
        "id": "view-in-github",
        "colab_type": "text"
      },
      "source": [
        "<a href=\"https://colab.research.google.com/github/katterine2558/palette-clustering/blob/main/SOLUCI%C3%93N_MEAN_SHIFT.ipynb\" target=\"_parent\"><img src=\"https://colab.research.google.com/assets/colab-badge.svg\" alt=\"Open In Colab\"/></a>"
      ]
    },
    {
      "cell_type": "markdown",
      "source": [
        "# SOLUCIÓN MICROPROYECTO 1\n",
        "\n",
        "Por: *Leonardo Almanza y Katerine Arias*"
      ],
      "metadata": {
        "id": "vwAINm1DBCHx"
      }
    },
    {
      "cell_type": "markdown",
      "source": [
        "## 1. Importar librerías\n",
        "\n",
        "En esta etapa inicial se realiza la importación de librerías, un paso fundamental para disponer de todas las herramientas necesarias en el proyecto. Se incluyen librerías de manipulación y análisis de datos (NumPy, Pandas), visualización (Matplotlib, Seaborn), procesamiento y reducción de dimensionalidad (scikit-learn, PCA, t-SNE), así como utilidades para el manejo de imágenes (OpenCV). Estas librerías permiten aplicar técnicas de machine learning no supervisado, como K-Means, con el fin de identificar y agrupar colores predominantes en las imágenes. De esta forma, se facilita la generación automática de paletas de colores representativas, que pueden aplicarse en áreas como diseño gráfico, análisis de estilo visual y visión por computador."
      ],
      "metadata": {
        "id": "dTIL1PtWBIC8"
      }
    },
    {
      "cell_type": "code",
      "source": [
        "# Importa librerías\n",
        "import numpy as np\n",
        "import pandas as pd\n",
        "import matplotlib.pyplot as plt\n",
        "import seaborn as sns\n",
        "from sklearn.pipeline import Pipeline\n",
        "from sklearn.cluster import KMeans\n",
        "from sklearn.preprocessing import StandardScaler\n",
        "from sklearn.metrics import silhouette_score, silhouette_samples\n",
        "from sklearn.manifold import TSNE\n",
        "from sklearn.decomposition import PCA\n",
        "import cv2\n",
        "from sklearn.base import BaseEstimator, TransformerMixin\n",
        "from PIL import Image as PILImage"
      ],
      "metadata": {
        "id": "Q07djzNRBB6u"
      },
      "execution_count": 1,
      "outputs": []
    },
    {
      "cell_type": "markdown",
      "source": [
        "## 2. Recopilación de imagenes\n",
        "\n",
        "En esta etapa se seleccionaron 8 imágenes de artes variados del dataset [WikiArt](https://https://www.kaggle.com/datasets/steubk/wikiart), con el fin de representar un amplio espectro de colores. Estas imágenes se organizaron en un diccionario y se visualizaron en grilla para su verificación previa al análisis."
      ],
      "metadata": {
        "id": "x_25U0BRBMVK"
      }
    },
    {
      "cell_type": "code",
      "execution_count": 2,
      "metadata": {
        "id": "rkXvukN8A7pW"
      },
      "outputs": [],
      "source": [
        "# Diccionario con nombre de imagenes\n",
        "imgs_dict = {'image1': 'imgs/a.y.-jackson_smart-river-alaska-1945.jpg',\n",
        "             'image2': 'imgs/abraham-manievich_camden-1923.jpg',\n",
        "             'image3':'imgs/adriaen-brouwer_farmers-fight-party.jpg',\n",
        "             'image4':'imgs/aldemir-martins_baiana-1980.jpg',\n",
        "             'image5': 'imgs/allen-jones_crazy-horse-1976.jpg',\n",
        "             'image6': 'imgs/andy-warhol_arnold-schwarzenegger-1977.jpg',\n",
        "             'image7':'imgs/giorgio-vasari_boccaccio-dante-petrarca.jpg',\n",
        "             'image8':'imgs/hiroshige_bay-at-kominato-in-awa-province.jpg'}"
      ]
    },
    {
      "cell_type": "code",
      "source": [
        "#Plotea imagenes seleccionadas\n",
        "def plot_images_grid(image_paths, grid_size=(2, 4), figsize=(10, 8)):\n",
        "    \"\"\"\n",
        "    Plotea las imagenes en grilla.\n",
        "    Input args:\n",
        "        image_paths (list): Lista de rutas a las imágenes.\n",
        "        grid_size (tuple): Tamaño de la grilla (filas, columnas).\n",
        "        figsize (tuple): Tamaño de la figura.\n",
        "    \"\"\"\n",
        "    fig, axes = plt.subplots(grid_size[0], grid_size[1], figsize=figsize)\n",
        "    axes = axes.flatten()\n",
        "\n",
        "    for i, img_path in enumerate(image_paths):\n",
        "        if i < len(axes):\n",
        "            try:\n",
        "                img = PILImage.open(img_path)\n",
        "                axes[i].imshow(img)\n",
        "                axes[i].set_title(f\"Image {i+1}\")\n",
        "                axes[i].axis('off')\n",
        "            except FileNotFoundError:\n",
        "                axes[i].set_title(f\"Image {i+1} not found\")\n",
        "                axes[i].axis('off')\n",
        "\n",
        "    # Hide any unused subplots\n",
        "    for j in range(i + 1, len(axes)):\n",
        "        axes[j].axis('off')\n",
        "\n",
        "    plt.tight_layout()\n",
        "    plt.show()"
      ],
      "metadata": {
        "id": "3_KKTkzKBYxY"
      },
      "execution_count": 3,
      "outputs": []
    },
    {
      "cell_type": "code",
      "source": [
        "# Plot de imagenes\n",
        "image_paths_list = list(imgs_dict.values())\n",
        "plot_images_grid(image_paths_list)"
      ],
      "metadata": {
        "id": "nUUouwf0BcZ9",
        "outputId": "70f24b9d-ccbc-446e-b399-0a0272313245",
        "colab": {
          "base_uri": "https://localhost:8080/",
          "height": 532
        }
      },
      "execution_count": 4,
      "outputs": [
        {
          "output_type": "display_data",
          "data": {
            "text/plain": [
              "<Figure size 1000x800 with 8 Axes>"
            ],
            "image/png": "[encoded data removed]"
          },
          "metadata": {}
        }
      ]
    },
    {
      "cell_type": "code",
      "source": [],
      "metadata": {
        "id": "KXwGk76xBaqc"
      },
      "execution_count": null,
      "outputs": []
    }
  ]
}