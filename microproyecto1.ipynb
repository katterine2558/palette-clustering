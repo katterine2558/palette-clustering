{
  "nbformat": 4,
  "nbformat_minor": 0,
  "metadata": {
    "colab": {
      "provenance": [],
      "include_colab_link": true
    },
    "kernelspec": {
      "name": "python3",
      "display_name": "Python 3"
    },
    "language_info": {
      "name": "python"
    }
  },
  "cells": [
    {
      "cell_type": "markdown",
      "metadata": {
        "id": "view-in-github",
        "colab_type": "text"
      },
      "source": [
        "<a href=\"https://colab.research.google.com/github/katterine2558/palette-clustering/blob/main/microproyecto1.ipynb\" target=\"_parent\"><img src=\"https://colab.research.google.com/assets/colab-badge.svg\" alt=\"Open In Colab\"/></a>"
      ]
    },
    {
      "cell_type": "markdown",
      "source": [
        "# SOLUCIÓN MICROPROYECTO 1\n",
        "\n",
        "Por:\n",
        "Leonardo Almanza\n",
        "Katerine Arias"
      ],
      "metadata": {
        "id": "8ZBvv5o8T2r7"
      }
    },
    {
      "cell_type": "markdown",
      "source": [
        "### hola rola"
      ],
      "metadata": {
        "id": "lCetx7IoVY8j"
      }
    },
    {
      "cell_type": "markdown",
      "source": [],
      "metadata": {
        "id": "fKaiCQysVdDl"
      }
    },
    {
      "cell_type": "markdown",
      "source": [],
      "metadata": {
        "id": "gsNaz-qyVX4G"
      }
    },
    {
      "cell_type": "code",
      "source": [],
      "metadata": {
        "id": "UtIThnzvT--R"
      },
      "execution_count": null,
      "outputs": []
    }
  ]
}